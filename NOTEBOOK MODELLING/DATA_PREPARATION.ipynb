{
  "nbformat": 4,
  "nbformat_minor": 0,
  "metadata": {
    "colab": {
      "name": "Data_Preparation.ipynb",
      "provenance": [],
      "collapsed_sections": []
    },
    "kernelspec": {
      "display_name": "Python 3",
      "language": "python",
      "name": "python3"
    },
    "language_info": {
      "codemirror_mode": {
        "name": "ipython",
        "version": 3
      },
      "file_extension": ".py",
      "mimetype": "text/x-python",
      "name": "python",
      "nbconvert_exporter": "python",
      "pygments_lexer": "ipython3",
      "version": "3.6.7"
    }
  },
  "cells": [
    {
      "cell_type": "markdown",
      "metadata": {
        "id": "M5phYL53u7UI",
        "colab_type": "text"
      },
      "source": [
        "#**Preparation Colab Env**"
      ]
    },
    {
      "cell_type": "markdown",
      "metadata": {
        "id": "rpF49ZCVwd1x",
        "colab_type": "text"
      },
      "source": [
        "##Mounting Drive"
      ]
    },
    {
      "cell_type": "code",
      "metadata": {
        "id": "MTgi6Jaewuke",
        "colab_type": "code",
        "colab": {
          "base_uri": "https://localhost:8080/",
          "height": 149
        },
        "outputId": "10fd0623-6eb0-4171-8971-a685ee61d56a"
      },
      "source": [
        "from google.colab import drive\n",
        "drive.mount('/gdrive')\n",
        "%cd /gdrive"
      ],
      "execution_count": null,
      "outputs": [
        {
          "output_type": "stream",
          "text": [
            "Go to this URL in a browser: https://accounts.google.com/o/oauth2/auth?client_id=947318989803-6bn6qk8qdgf4n4g3pfee6491hc0brc4i.apps.googleusercontent.com&redirect_uri=urn%3aietf%3awg%3aoauth%3a2.0%3aoob&response_type=code&scope=email%20https%3a%2f%2fwww.googleapis.com%2fauth%2fdocs.test%20https%3a%2f%2fwww.googleapis.com%2fauth%2fdrive%20https%3a%2f%2fwww.googleapis.com%2fauth%2fdrive.photos.readonly%20https%3a%2f%2fwww.googleapis.com%2fauth%2fpeopleapi.readonly\n",
            "\n",
            "Enter your authorization code:\n",
            "··········\n",
            "Mounted at /gdrive\n",
            "/gdrive\n"
          ],
          "name": "stdout"
        }
      ]
    },
    {
      "cell_type": "markdown",
      "metadata": {
        "id": "odAL85iHvVVH",
        "colab_type": "text"
      },
      "source": [
        "## Import Library"
      ]
    },
    {
      "cell_type": "code",
      "metadata": {
        "colab_type": "code",
        "id": "42MXbW1f61r0",
        "colab": {}
      },
      "source": [
        "!pip install geopandas\n",
        "!pip install descartes\n",
        "!pip install Fiona "
      ],
      "execution_count": null,
      "outputs": []
    },
    {
      "cell_type": "code",
      "metadata": {
        "colab_type": "code",
        "id": "WcPELVw19NAS",
        "colab": {}
      },
      "source": [
        "import os, sys\n",
        "from tqdm.notebook import tqdm\n",
        "import datetime\n",
        "import geopandas as gpd\n",
        "import descartes\n",
        "import fiona\n",
        "import shapely\n",
        "import ee\n",
        "import ee.mapclient\n",
        "import gdal\n",
        "import json"
      ],
      "execution_count": null,
      "outputs": []
    },
    {
      "cell_type": "markdown",
      "metadata": {
        "id": "aT8nGiiiDnkf",
        "colab_type": "text"
      },
      "source": [
        "##Authenticate & Initialize Earth Engine"
      ]
    },
    {
      "cell_type": "code",
      "metadata": {
        "id": "mLD-f9BVjKcq",
        "colab_type": "code",
        "colab": {
          "base_uri": "https://localhost:8080/",
          "height": 184
        },
        "outputId": "231c9051-1897-4815-e60c-bb46cc6c35e7"
      },
      "source": [
        "ee.Authenticate()\n",
        "ee.Initialize()"
      ],
      "execution_count": null,
      "outputs": [
        {
          "output_type": "stream",
          "text": [
            "To authorize access needed by Earth Engine, open the following URL in a web browser and follow the instructions. If the web browser does not start automatically, please manually browse the URL below.\n",
            "\n",
            "    https://accounts.google.com/o/oauth2/auth?client_id=517222506229-vsmmajv00ul0bs7p89v5m89qs8eb9359.apps.googleusercontent.com&scope=https%3A%2F%2Fwww.googleapis.com%2Fauth%2Fearthengine+https%3A%2F%2Fwww.googleapis.com%2Fauth%2Fdevstorage.full_control&redirect_uri=urn%3Aietf%3Awg%3Aoauth%3A2.0%3Aoob&response_type=code&code_challenge=2SsBVLag4TQV3fEG-nuEhg6yN32HmH_5gCdKY10_Bsw&code_challenge_method=S256\n",
            "\n",
            "The authorization workflow will generate a code, which you should paste in the box below. \n",
            "Enter verification code: 4/0gFHY0Fn9kh5r1EvjsoBDBqeGNTx-LXFmLH1yLap5eCpnV2l93W_J24\n",
            "\n",
            "Successfully saved authorization token.\n"
          ],
          "name": "stdout"
        }
      ]
    },
    {
      "cell_type": "markdown",
      "metadata": {
        "id": "VpweLi6sAIu7",
        "colab_type": "text"
      },
      "source": [
        "# **Define Requirement**"
      ]
    },
    {
      "cell_type": "code",
      "metadata": {
        "id": "2jV55w_juMt9",
        "colab_type": "code",
        "colab": {}
      },
      "source": [
        "DIRECTORY = '/gdrive/My Drive/SKRIPSI (MODELLING)'\n",
        "BATAS_ADMINISTRATIF_PROV = os.path.join(DIRECTORY,'SHP INDONESIA/prov.shp')\n",
        "TUTUPAN_LAHAN = os.path.join(DIRECTORY,'PETA TUTUPAN LAHAN/STIS.gdb')\n",
        "LAHAN_BAKU_SAWAH = os.path.join(DIRECTORY,'PETA BAKU SAWAH')\n",
        "PROV_INTR = os.path.join(DIRECTORY, 'INTR PROV')\n",
        "PROV_GRID = os.path.join(DIRECTORY, 'GRID PROV')\n",
        "\n",
        "FOLDER_2013 = 'SKRIPSI [LANDSAT 8 (RGB) 2013] RECT'\n",
        "FOLDER_2014 = 'SKRIPSI [LANDSAT 8 (RGB) 2014] RECT'\n",
        "FOLDER_2015 = 'SKRIPSI [LANDSAT 8 (RGB) 2015] RECT'\n",
        "FOLDER_2016 = 'SKRIPSI [LANDSAT 8 (RGB) 2016] RECT'\n",
        "FOLDER_2017 = 'SKRIPSI [LANDSAT 8 (RGB) 2017] RECT'\n",
        "FOLDER_2018 = 'SKRIPSI [LANDSAT 8 (RGB) 2018] RECT'"
      ],
      "execution_count": null,
      "outputs": []
    },
    {
      "cell_type": "markdown",
      "metadata": {
        "id": "tLPHqbcQAzME",
        "colab_type": "text"
      },
      "source": [
        "# **Satellite Imagery (Deteksi Sawah)**"
      ]
    },
    {
      "cell_type": "markdown",
      "metadata": {
        "id": "eX9mFEcRjiD0",
        "colab_type": "text"
      },
      "source": [
        "## Load Province Grids SHP"
      ]
    },
    {
      "cell_type": "code",
      "metadata": {
        "id": "alUdO5BTuUDO",
        "colab_type": "code",
        "colab": {}
      },
      "source": [
        "PROV_GRID_SHP = dict()\n",
        "for file_prov in tqdm(os.listdir(PROV_GRID)):\n",
        "  if(file_prov.endswith('.shp')):\n",
        "    try:\n",
        "      PROV_GRID_SHP['{}'.format(file_prov.replace('.shp',''))] = gpd.read_file(os.path.join(PROV_GRID, file_prov))\n",
        "      print(file_prov.replace('.shp',''), 'Load Successfully')\n",
        "    except: print(file_prov.replace('.shp',''), 'Load Failed')"
      ],
      "execution_count": null,
      "outputs": []
    },
    {
      "cell_type": "markdown",
      "metadata": {
        "id": "L4hpClB0jrJ_",
        "colab_type": "text"
      },
      "source": [
        "## Load Province Polygon SHP"
      ]
    },
    {
      "cell_type": "code",
      "metadata": {
        "id": "uqio0jJk6EcT",
        "colab_type": "code",
        "colab": {}
      },
      "source": [
        "PROV_INTR_SHP = dict()\n",
        "for file_prov in tqdm(os.listdir(PROV_INTR)):\n",
        "  if(file_prov.endswith('.shp')):\n",
        "    try:\n",
        "      PROV_INTR_SHP['{}'.format(file_prov.replace('.shp',''))] = gpd.read_file(os.path.join(PROV_INTR, file_prov))\n",
        "      print(file_prov.replace('.shp',''), 'Load Successfully')\n",
        "    except: print(file_prov.replace('.shp',''), 'Load Failed')"
      ],
      "execution_count": null,
      "outputs": []
    },
    {
      "cell_type": "markdown",
      "metadata": {
        "id": "acmPbNPXeZ09",
        "colab_type": "text"
      },
      "source": [
        "## Cloud & Shadow Mask Function (Landsat 8 SR RGB)"
      ]
    },
    {
      "cell_type": "code",
      "metadata": {
        "id": "XTwES8myD63n",
        "colab_type": "code",
        "colab": {}
      },
      "source": [
        "def maskL8sr(image):\n",
        "  cloudShadowBitMask = ee.Number(2).pow(3).int()\n",
        "  cloudsBitMask = ee.Number(2).pow(5).int()\n",
        "  qa = image.select('pixel_qa')\n",
        "  mask1 = qa.bitwiseAnd(cloudShadowBitMask).eq(0).And(\n",
        "    qa.bitwiseAnd(cloudsBitMask).eq(0))\n",
        "  mask2 = image.mask().reduce('min')\n",
        "  mask = mask1.And(mask2)\n",
        "  return image.updateMask(mask)"
      ],
      "execution_count": null,
      "outputs": []
    },
    {
      "cell_type": "markdown",
      "metadata": {
        "id": "9UZx9m-xeYqn",
        "colab_type": "text"
      },
      "source": [
        "## Export Satellite Imagery Function (Landsat 8 SR RGB)\n"
      ]
    },
    {
      "cell_type": "code",
      "metadata": {
        "id": "qgZG1tN_2nzw",
        "colab_type": "code",
        "colab": {}
      },
      "source": [
        "def export_landsat8_RGB(provinsi, start_date, end_date, tahun, folder):\n",
        "  from tqdm import tqdm_notebook as tqdm\n",
        "  prov_shp = PROV_INTR_SHP[provinsi]\n",
        "  grid_shp = PROV_GRID_SHP[provinsi]\n",
        "\n",
        "\n",
        "  for page in tqdm(prov_shp.PageName):\n",
        "    try:\n",
        "      # processing shp polygon to ee.geometry as bound for clip\n",
        "      prov_poly = prov_shp[prov_shp.PageName == page].geometry\n",
        "      grid = grid_shp[grid_shp.PageName == page].geometry\n",
        "      poly_json = json.loads(prov_poly.to_json())\n",
        "      grid_json = json.loads(grid.to_json())\n",
        "      \n",
        "      # poly_json = json.loads(gpd.GeoSeries([prov_poly]).to_json())\n",
        "      features_geo = poly_json['features'][0]['geometry']\n",
        "      grid_geo = grid_json['features'][0]['geometry']\n",
        "\n",
        "      bound = ee.Geometry.MultiPolygon(features_geo['coordinates'])\n",
        "      grid_bound = ee.Geometry.MultiPolygon(grid_geo['coordinates'])\n",
        "      # get features collection & clip image\n",
        "      collection = (ee.ImageCollection('LANDSAT/LC08/C01/T1_SR')\n",
        "                .filterDate(start_date, end_date).map(maskL8sr))\n",
        "      image_clip = collection.median().clipToCollection(ee.FeatureCollection(bound))\n",
        "      print('{}_{}'.format(provinsi, page), 'extract clip success')\n",
        "\n",
        "    except: print('{}_{}'.format(provinsi, page), 'extract clip failed')\n",
        "\n",
        "    # define task to extract imagery\n",
        "    task_config = {\n",
        "        'scale': 30,  \n",
        "        'region': grid_bound,\n",
        "        'fileFormat': 'GeoTIFF',\n",
        "        'driveFolder': folder\n",
        "        }\n",
        "    task = ee.batch.Export.image(image_clip.select(['B4', 'B3', 'B2']), '{}_{}_{}'.format(provinsi, str(page), tahun), task_config)\n",
        "    task.start()"
      ],
      "execution_count": null,
      "outputs": []
    },
    {
      "cell_type": "markdown",
      "metadata": {
        "id": "2zFYft8OsBeR",
        "colab_type": "text"
      },
      "source": [
        "## Export (2013)"
      ]
    },
    {
      "cell_type": "code",
      "metadata": {
        "id": "CHZhrdpAoKDE",
        "colab_type": "code",
        "colab": {}
      },
      "source": [
        "start_2013 = datetime.datetime(2013, 4, 1)\n",
        "end_2013 = datetime.datetime(2014, 4, 1)\n",
        "\n",
        "for provinsi in PROV_GRID_SHP:\n",
        "  export_landsat8_RGB(provinsi, start_2013, end_2013, '2013', FOLDER_2013)"
      ],
      "execution_count": null,
      "outputs": []
    },
    {
      "cell_type": "markdown",
      "metadata": {
        "id": "JKHHEeEusN5_",
        "colab_type": "text"
      },
      "source": [
        "## Export (2014)"
      ]
    },
    {
      "cell_type": "code",
      "metadata": {
        "id": "Dxd4AJ-_ow8s",
        "colab_type": "code",
        "colab": {}
      },
      "source": [
        "start_2014 = datetime.datetime(2014, 1, 1)\n",
        "end_2014 = datetime.datetime(2015, 1, 1)\n",
        "\n",
        "for provinsi in PROV_GRID_SHP:\n",
        "  export_landsat8_RGB(provinsi, start_2014, end_2014, '2014', FOLDER_2014)"
      ],
      "execution_count": null,
      "outputs": []
    },
    {
      "cell_type": "markdown",
      "metadata": {
        "id": "t4jVToj_sQjT",
        "colab_type": "text"
      },
      "source": [
        "## Export (2015)"
      ]
    },
    {
      "cell_type": "code",
      "metadata": {
        "id": "0Xx2u84aqkTE",
        "colab_type": "code",
        "colab": {}
      },
      "source": [
        "start_2015 = datetime.datetime(2015, 1, 1)\n",
        "end_2015 = datetime.datetime(2016, 1, 1)\n",
        "\n",
        "for provinsi in PROV_GRID_SHP:\n",
        "  export_landsat8_RGB(provinsi, start_2015, end_2015, '2015', FOLDER_2015)"
      ],
      "execution_count": null,
      "outputs": []
    },
    {
      "cell_type": "markdown",
      "metadata": {
        "id": "9PA1a_FgsSwC",
        "colab_type": "text"
      },
      "source": [
        "## Export (2016)"
      ]
    },
    {
      "cell_type": "code",
      "metadata": {
        "id": "koNd7jlrqwQP",
        "colab_type": "code",
        "colab": {}
      },
      "source": [
        "start_2016 = datetime.datetime(2016, 1, 1)\n",
        "end_2016 = datetime.datetime(2017, 1, 1)\n",
        "\n",
        "for provinsi in PROV_GRID_SHP:\n",
        "  export_landsat8_RGB(provinsi, start_2016, end_2016, '2016', FOLDER_2016)"
      ],
      "execution_count": null,
      "outputs": []
    },
    {
      "cell_type": "markdown",
      "metadata": {
        "id": "rSnafX8JsUzK",
        "colab_type": "text"
      },
      "source": [
        "## Export (2017)"
      ]
    },
    {
      "cell_type": "code",
      "metadata": {
        "id": "AA6kpSWXq71O",
        "colab_type": "code",
        "colab": {}
      },
      "source": [
        "start_2017 = datetime.datetime(2017, 1, 1)\n",
        "end_2017 = datetime.datetime(2018, 1, 1)\n",
        "\n",
        "for provinsi in PROV_GRID_SHP:\n",
        "  export_landsat8_RGB(provinsi, start_2017, end_2017, '2017', FOLDER_2017)"
      ],
      "execution_count": null,
      "outputs": []
    },
    {
      "cell_type": "markdown",
      "metadata": {
        "id": "eEx77em2sXpJ",
        "colab_type": "text"
      },
      "source": [
        "## Export (2018)"
      ]
    },
    {
      "cell_type": "code",
      "metadata": {
        "id": "jawIl5ySrHQ7",
        "colab_type": "code",
        "colab": {}
      },
      "source": [
        "start_2018 = datetime.datetime(2018, 1, 1)\n",
        "end_2018 = datetime.datetime(2019, 1, 1)\n",
        "\n",
        "for provinsi in PROV_GRID_SHP:\n",
        "  export_landsat8_RGB(provinsi, start_2018, end_2018, '2018', FOLDER_2018)"
      ],
      "execution_count": null,
      "outputs": []
    },
    {
      "cell_type": "markdown",
      "metadata": {
        "id": "6dXd0xHMCHtG",
        "colab_type": "text"
      },
      "source": [
        "# **Satellite Imagery (Tutupan Lahan)**"
      ]
    },
    {
      "cell_type": "markdown",
      "metadata": {
        "id": "udtWydCtyh8t",
        "colab_type": "text"
      },
      "source": [
        "## Define Directories"
      ]
    },
    {
      "cell_type": "code",
      "metadata": {
        "id": "8og8Lr12SO79",
        "colab_type": "code",
        "colab": {}
      },
      "source": [
        "TL_SHP_DIR = os.path.join(DIRECTORY, 'SHP TUTUPAN LAHAN')\n",
        "HUTAN_LKP = '2001'\n",
        "HUTAN_LKS = '2002'\n",
        "HUTAN_MP = '2004'\n",
        "HUTAN_MS = '20041'\n",
        "HUTAN_RP = '2005'\n",
        "HUTAN_RS = '20051'\n",
        "HUTAN_T = '2006'\n",
        "SEMAK = '2007'\n",
        "SEMAK_R = '20071'\n",
        "PERTANIAN_LKP = '20091'\n",
        "PERTANIAN_LKS = '20092'\n",
        "BADAN_AIR = '5001'\n",
        "BADAN_AIR_R = '50011'\n",
        "PEMUKIMAN = '2012'\n",
        "TERBANGUN = '20121'\n",
        "\n",
        "FOLDER_HUTAN = 'NEW SKRIPSI IMAGE [HUTAN]' \n",
        "FOLDER_HUTAN_LK = 'NEW SKRIPSI IMAGE [HUTAN_LK]' \n",
        "FOLDER_HUTAN_M = 'NEW SKRIPSI IMAGE [HUTAN_M]' \n",
        "FOLDER_HUTAN_R = 'NEW SKRIPSI IMAGE [HUTAN_R]' \n",
        "FOLDER_HUTAN_T = 'NEW SKRIPSI IMAGE [HUTAN_T]' \n",
        "FOLDER_SEMAK = 'NEW SKRIPSI IMAGE [SEMAK]' \n",
        "FOLDER_PERTANIAN_LK = 'NEW SKRIPSI IMAGE [PERTANIAN_LK]' \n",
        "FOLDER_BADAN_AIR = 'NEW SKRIPSI IMAGE [BADAN AIR]' \n",
        "FOLDER_PEMUKIMAN = 'NEW SKRIPSI IMAGE [PEMUKIMAN]' "
      ],
      "execution_count": null,
      "outputs": []
    },
    {
      "cell_type": "markdown",
      "metadata": {
        "id": "GbtPBp6v5kXS",
        "colab_type": "text"
      },
      "source": [
        "## Load Grid Tutupan Lahan SHP"
      ]
    },
    {
      "cell_type": "code",
      "metadata": {
        "id": "foGkPtmMDPO2",
        "colab_type": "code",
        "colab": {}
      },
      "source": [
        "TL_GRID_SHP = dict()\n",
        "for file_grid in tqdm(os.listdir(TL_SHP_DIR)):\n",
        "  if(file_grid.endswith('.shp')):\n",
        "    try:\n",
        "      TL_GRID_SHP['{}'.format(file_grid.replace('.shp',''))] = gpd.read_file(os.path.join(TL_SHP_DIR, file_grid))\n",
        "      print(file_grid.replace('.shp',''), 'Load Successfully')\n",
        "    except: print(file_grid.replace('.shp',''), 'Load Failed')"
      ],
      "execution_count": null,
      "outputs": []
    },
    {
      "cell_type": "markdown",
      "metadata": {
        "id": "7ZZKC3Xe4Ove",
        "colab_type": "text"
      },
      "source": [
        "## Cloud Mask Function (Sentinel 2 RGB)"
      ]
    },
    {
      "cell_type": "code",
      "metadata": {
        "id": "tw9E7kOG04nb",
        "colab_type": "code",
        "colab": {}
      },
      "source": [
        "def maskS2clouds(image):\n",
        "  cloudBitMask  = ee.Number(2).pow(10).int()\n",
        "  cirrusBitMask = ee.Number(2).pow(11).int()\n",
        "  qa = image.select('QA60')\n",
        "  mask = qa.bitwiseAnd(cloudBitMask).eq(0).And(\n",
        "    qa.bitwiseAnd(cirrusBitMask).eq(0))\n",
        "  return image.updateMask(mask).divide(10000)"
      ],
      "execution_count": null,
      "outputs": []
    },
    {
      "cell_type": "markdown",
      "metadata": {
        "id": "4zgM6K0K4duq",
        "colab_type": "text"
      },
      "source": [
        "## Export Satellite Imagery Function (Sentinel 2 RGB)"
      ]
    },
    {
      "cell_type": "code",
      "metadata": {
        "id": "Ya8iQ9_WSPIs",
        "colab_type": "code",
        "colab": {}
      },
      "source": [
        "def export_sentinel2_RGB(kode_lahan, start_date, end_date, n, folder):\n",
        "  from tqdm import tqdm_notebook as tqdm\n",
        "  grid_shp = TL_GRID_SHP[kode_lahan]\n",
        "\n",
        "\n",
        "  for page in tqdm(grid_shp.sample(frac = 1).PageName[:n]):\n",
        "    try:\n",
        "      grid = grid_shp[grid_shp.PageName == page].geometry\n",
        "      grid_json = json.loads(grid.to_json())\n",
        "      grid_geo = grid_json['features'][0]['geometry']\n",
        "      grid_bound = ee.Geometry.MultiPolygon(grid_geo['coordinates'])\n",
        "\n",
        "      collection = (ee.ImageCollection('COPERNICUS/S2_SR')\n",
        "                .filterDate(start_date, end_date).filter(ee.Filter.lt('CLOUDY_PIXEL_PERCENTAGE',20)).map(maskS2clouds))\n",
        "      \n",
        "      image_clip = collection.median().clipToCollection(ee.FeatureCollection(grid_bound))\n",
        "      print('{}_{}'.format(kode_lahan, page), 'extract clip success')\n",
        "    except: print('{}_{}'.format(kode_lahan, page), 'extract clip failed')\n",
        "\n",
        "    task_config = {\n",
        "        'scale': 10,  \n",
        "        'region': grid_bound,\n",
        "        'fileFormat': 'GeoTIFF',\n",
        "        'driveFolder': folder,\n",
        "        }\n",
        "    task = ee.batch.Export.image(image_clip.select(['B4', 'B3', 'B2']), '{}_{}'.format(kode_lahan, page), task_config)\n",
        "    task.start()"
      ],
      "execution_count": null,
      "outputs": []
    },
    {
      "cell_type": "markdown",
      "metadata": {
        "id": "cZoQNbPQ5-tT",
        "colab_type": "text"
      },
      "source": [
        "## Export Tutupan Lahan"
      ]
    },
    {
      "cell_type": "code",
      "metadata": {
        "id": "ngKmWIRn6n_V",
        "colab_type": "code",
        "colab": {}
      },
      "source": [
        "start = datetime.datetime(2017, 4, 1)\n",
        "end = datetime.datetime(2018, 12, 31)"
      ],
      "execution_count": null,
      "outputs": []
    },
    {
      "cell_type": "markdown",
      "metadata": {
        "id": "gCKRINiA7D50",
        "colab_type": "text"
      },
      "source": [
        "### Hutan"
      ]
    },
    {
      "cell_type": "code",
      "metadata": {
        "id": "Iz-Uqf8J7Hj4",
        "colab_type": "code",
        "colab": {}
      },
      "source": [
        "export_sentinel2_RGB(HUTAN_LKS, start, end, 500, FOLDER_HUTAN_LK)\n",
        "export_sentinel2_RGB(HUTAN_LKP, start, end, 500, FOLDER_HUTAN_LK)"
      ],
      "execution_count": null,
      "outputs": []
    },
    {
      "cell_type": "code",
      "metadata": {
        "id": "ylE8X-cbyLvH",
        "colab_type": "code",
        "colab": {}
      },
      "source": [
        "export_sentinel2_RGB(HUTAN_MP, start, end, 500, FOLDER_HUTAN_M)\n",
        "export_sentinel2_RGB(HUTAN_MS, start, end, 500, FOLDER_HUTAN_M)"
      ],
      "execution_count": null,
      "outputs": []
    },
    {
      "cell_type": "code",
      "metadata": {
        "id": "RbA5OqZvydIp",
        "colab_type": "code",
        "colab": {}
      },
      "source": [
        "export_sentinel2_RGB(HUTAN_RP, start, end, 500, FOLDER_HUTAN_R)\n",
        "export_sentinel2_RGB(HUTAN_RS, start, end, 500, FOLDER_HUTAN_R)"
      ],
      "execution_count": null,
      "outputs": []
    },
    {
      "cell_type": "code",
      "metadata": {
        "id": "qrXcj6unyd5K",
        "colab_type": "code",
        "colab": {}
      },
      "source": [
        "export_sentinel2_RGB(HUTAN_T, start, end, 500, FOLDER_HUTAN_T)"
      ],
      "execution_count": null,
      "outputs": []
    },
    {
      "cell_type": "markdown",
      "metadata": {
        "id": "BowVHYuy8oFt",
        "colab_type": "text"
      },
      "source": [
        "### Semak"
      ]
    },
    {
      "cell_type": "code",
      "metadata": {
        "id": "sO5ZtDLDzTWL",
        "colab_type": "code",
        "colab": {}
      },
      "source": [
        "export_sentinel2_RGB(SEMAK, start, end, 1500, FOLDER_SEMAK)\n",
        "export_sentinel2_RGB(SEMAK_R, start, end, 1500, FOLDER_SEMAK)"
      ],
      "execution_count": null,
      "outputs": []
    },
    {
      "cell_type": "markdown",
      "metadata": {
        "id": "VHbA8jQ48saS",
        "colab_type": "text"
      },
      "source": [
        "### Pertanian Lahan Kering"
      ]
    },
    {
      "cell_type": "code",
      "metadata": {
        "id": "HphfBB-TzlLf",
        "colab_type": "code",
        "colab": {}
      },
      "source": [
        "export_sentinel2_RGB(PERTANIAN_LKP, start, end, 1500, FOLDER_PERTANIAN_LK)\n",
        "export_sentinel2_RGB(PERTANIAN_LKS, start, end, 1500, FOLDER_PERTANIAN_LK)"
      ],
      "execution_count": null,
      "outputs": []
    },
    {
      "cell_type": "markdown",
      "metadata": {
        "id": "6wxs9MxP80JH",
        "colab_type": "text"
      },
      "source": [
        "### Badan Air"
      ]
    },
    {
      "cell_type": "code",
      "metadata": {
        "id": "PTAlWzNHzllG",
        "colab_type": "code",
        "colab": {}
      },
      "source": [
        "export_sentinel2_RGB(BADAN_AIR, start, end, 1500, FOLDER_BADAN_AIR)\n",
        "export_sentinel2_RGB(BADAN_AIR_R, start, end, 1500, FOLDER_BADAN_AIR)"
      ],
      "execution_count": null,
      "outputs": []
    },
    {
      "cell_type": "markdown",
      "metadata": {
        "id": "Ycz1l-is86QZ",
        "colab_type": "text"
      },
      "source": [
        "### Pemukiman / Lahan Terbangun"
      ]
    },
    {
      "cell_type": "code",
      "metadata": {
        "id": "zrR5qc8nz4d6",
        "colab_type": "code",
        "colab": {}
      },
      "source": [
        "export_sentinel2_RGB(PEMUKIMAN, start, end, 1500, FOLDER_PEMUKIMAN)\n",
        "export_sentinel2_RGB(TERBANGUN, start, end, 1500, FOLDER_PEMUKIMAN)"
      ],
      "execution_count": null,
      "outputs": []
    },
    {
      "cell_type": "markdown",
      "metadata": {
        "id": "7ZY6Cnlt-aL2",
        "colab_type": "text"
      },
      "source": [
        "# **Satellite Imagery Grid Substract Studi Kasus (Bali)**"
      ]
    },
    {
      "cell_type": "markdown",
      "metadata": {
        "id": "3kDoywCCA2YH",
        "colab_type": "text"
      },
      "source": [
        "## Define Directories"
      ]
    },
    {
      "cell_type": "code",
      "metadata": {
        "id": "m6ZISwgEA5-r",
        "colab_type": "code",
        "colab": {}
      },
      "source": [
        "GRID_SUBSTRACT_BALI = os.path.join(DIRECTORY, 'GRID ALIH FUNGSI BALI')\n",
        "\n",
        "FOLDER_2013_2014 = 'SUBSTRACT SAWAH BALI 2013-2014'\n",
        "FOLDER_2014_2015 = 'SUBSTRACT SAWAH BALI 2014-2015'\n",
        "FOLDER_2015_2016 = 'SUBSTRACT SAWAH BALI 2015-2016'\n",
        "FOLDER_2016_2017 = 'SUBSTRACT SAWAH BALI 2016-2017'\n",
        "FOLDER_2017_2018 = 'SUBSTRACT SAWAH BALI 2017-2018'\n",
        "FOLDER_2013_2018 = 'SUBSTRACT SAWAH BALI 2013-2018'"
      ],
      "execution_count": null,
      "outputs": []
    },
    {
      "cell_type": "markdown",
      "metadata": {
        "id": "o1g9iSofA6nJ",
        "colab_type": "text"
      },
      "source": [
        "## Load Grid Substract SHP"
      ]
    },
    {
      "cell_type": "code",
      "metadata": {
        "id": "ogSW4YCuA6Wm",
        "colab_type": "code",
        "colab": {}
      },
      "source": [
        "GRID_SUBSTRACT_BALI_SHP = dict()\n",
        "for file_grid in tqdm(os.listdir(GRID_SUBSTRACT_BALI)):\n",
        "  if(file_grid.endswith('.shp')):\n",
        "    try:\n",
        "      GRID_SUBSTRACT_BALI_SHP['{}'.format(file_grid.replace('.shp',''))] = gpd.read_file(os.path.join(GRID_SUBSTRACT_BALI, file_grid))\n",
        "      print(file_grid.replace('.shp',''), 'Load Successfully')\n",
        "    except: print(file_grid.replace('.shp',''), 'Load Failed')"
      ],
      "execution_count": null,
      "outputs": []
    },
    {
      "cell_type": "markdown",
      "metadata": {
        "id": "Brg_2HJz_Bea",
        "colab_type": "text"
      },
      "source": [
        "## Cloud Mask Function (Sentinel 2 RGB)"
      ]
    },
    {
      "cell_type": "code",
      "metadata": {
        "id": "ubOLZw1W-9-T",
        "colab_type": "code",
        "colab": {}
      },
      "source": [
        "def maskS2clouds(image):\n",
        "  cloudBitMask  = ee.Number(2).pow(10).int()\n",
        "  cirrusBitMask = ee.Number(2).pow(11).int()\n",
        "  qa = image.select('QA60')\n",
        "  mask = qa.bitwiseAnd(cloudBitMask).eq(0).And(\n",
        "    qa.bitwiseAnd(cirrusBitMask).eq(0))\n",
        "  return image.updateMask(mask).divide(10000)"
      ],
      "execution_count": null,
      "outputs": []
    },
    {
      "cell_type": "markdown",
      "metadata": {
        "id": "0bZPYJ9X_GcR",
        "colab_type": "text"
      },
      "source": [
        "## Export Satellite Imagery Function (Sentinel 2 RGB) - Grid Substract"
      ]
    },
    {
      "cell_type": "code",
      "metadata": {
        "id": "vAIFDi-N_Fzl",
        "colab_type": "code",
        "colab": {}
      },
      "source": [
        "def export_sentinel2_RGB_SB(periode, start_date, end_date, folder):\n",
        "  grid_shp = GRID_SUBSTRACT_BALI_SHP[periode]\n",
        "\n",
        "\n",
        "  for page in tqdm(grid_shp.PageName):\n",
        "    try:\n",
        "      grid = grid_shp[grid_shp.PageName == page].geometry\n",
        "      grid_json = json.loads(grid.to_json())\n",
        "      grid_geo = grid_json['features'][0]['geometry']\n",
        "      grid_bound = ee.Geometry.MultiPolygon(grid_geo['coordinates'])\n",
        "\n",
        "      collection = (ee.ImageCollection('COPERNICUS/S2')\n",
        "                .filterDate(start_date, end_date).filter(ee.Filter.lt('CLOUDY_PIXEL_PERCENTAGE',20)).map(maskS2clouds))\n",
        "      \n",
        "      image_clip = collection.median().clipToCollection(ee.FeatureCollection(grid_bound))\n",
        "      print('{}_{}'.format(periode, page), 'extract clip success')\n",
        "    except: print('{}_{}'.format(periode, page), 'extract clip failed')\n",
        "\n",
        "    task_config = {\n",
        "        'scale': 10,  \n",
        "        'region': grid_bound,\n",
        "        'fileFormat': 'GeoTIFF',\n",
        "        'driveFolder': folder,\n",
        "        }\n",
        "    task = ee.batch.Export.image(image_clip.select(['B4', 'B3', 'B2']), '{}_{}'.format(periode, page), task_config)\n",
        "    task.start()"
      ],
      "execution_count": null,
      "outputs": []
    },
    {
      "cell_type": "markdown",
      "metadata": {
        "id": "GIcOMdjLrX7Q",
        "colab_type": "text"
      },
      "source": [
        "## Export Satellite Imagery Function (Landsat 8 RGB) - Grid Substract"
      ]
    },
    {
      "cell_type": "code",
      "metadata": {
        "id": "K2WG95yapqpk",
        "colab_type": "code",
        "colab": {}
      },
      "source": [
        "def export_landsat8_RGB_TL(periode, start_date, end_date, folder):\n",
        "  grid_shp = TL_GRID_SHP[periode]\n",
        "\n",
        "\n",
        "  for page in tqdm(grid_shp.PageName):\n",
        "    try:\n",
        "      grid = grid_shp[grid_shp.PageName == page].geometry\n",
        "      grid_json = json.loads(grid.to_json())\n",
        "      grid_geo = grid_json['features'][0]['geometry']\n",
        "\n",
        "      grid_bound = ee.Geometry.MultiPolygon(grid_geo['coordinates'])\n",
        "      collection = (ee.ImageCollection('LANDSAT/LC08/C01/T1_SR')\n",
        "                .filterDate(start_date, end_date).map(maskL8sr))\n",
        "      \n",
        "      image_clip = collection.mosaic().clipToCollection(ee.FeatureCollection(grid_bound))\n",
        "      print('{}_{}'.format(periode, page), 'extract clip success')\n",
        "    except: print('{}_{}'.format(periode, page), 'extract clip failed')\n",
        "\n",
        "    task_config = {\n",
        "        'scale': 30,  \n",
        "        'region': grid_bound,\n",
        "        'fileFormat': 'GeoTIFF',\n",
        "        'driveFolder': folder,\n",
        "        }\n",
        "    task = ee.batch.Export.image(image_clip.select(['B4', 'B3', 'B2']), '{}_{}'.format(periode, page), task_config)\n",
        "    task.start()"
      ],
      "execution_count": null,
      "outputs": []
    },
    {
      "cell_type": "markdown",
      "metadata": {
        "id": "iRlXz_dprext",
        "colab_type": "text"
      },
      "source": [
        "## Export Every Period"
      ]
    },
    {
      "cell_type": "markdown",
      "metadata": {
        "id": "0rlpa8v3rlCo",
        "colab_type": "text"
      },
      "source": [
        "### Export Substract 2013-2018"
      ]
    },
    {
      "cell_type": "code",
      "metadata": {
        "id": "12V84EXomJt2",
        "colab_type": "code",
        "colab": {}
      },
      "source": [
        "start_2018 = datetime.datetime(2018, 1, 1)\n",
        "end_2018 = datetime.datetime(2019, 1, 1)\n",
        "export_sentinel2_RGB_SB('2013_2018', start_2018, end_2018, FOLDER_2013_2018)"
      ],
      "execution_count": null,
      "outputs": []
    },
    {
      "cell_type": "markdown",
      "metadata": {
        "id": "GqosGBSprtfD",
        "colab_type": "text"
      },
      "source": [
        "### Export Substract 2013-2014"
      ]
    },
    {
      "cell_type": "code",
      "metadata": {
        "id": "lTLEv-GsoQPs",
        "colab_type": "code",
        "colab": {}
      },
      "source": [
        "start_2014 = datetime.datetime(2014, 1, 1)\n",
        "end_2014 = datetime.datetime(2015, 1, 1)\n",
        "export_landsat8_RGB_TL('2013_2014', start_2014, end_2014, FOLDER_2013_2014)"
      ],
      "execution_count": null,
      "outputs": []
    },
    {
      "cell_type": "markdown",
      "metadata": {
        "id": "cBKftHvDrvsx",
        "colab_type": "text"
      },
      "source": [
        "### Export Substract 2014-2015"
      ]
    },
    {
      "cell_type": "code",
      "metadata": {
        "id": "Vx1Nv07uoYWd",
        "colab_type": "code",
        "colab": {}
      },
      "source": [
        "start_2015 = datetime.datetime(2015, 7, 1)\n",
        "end_2015 = datetime.datetime(2016, 1, 1)\n",
        "export_sentinel2_RGB_SB('2014_2015', start_2015, end_2015, FOLDER_2014_2015)"
      ],
      "execution_count": null,
      "outputs": []
    },
    {
      "cell_type": "markdown",
      "metadata": {
        "id": "LAeYQuY7rzJQ",
        "colab_type": "text"
      },
      "source": [
        "### Export Substract 2015-2016"
      ]
    },
    {
      "cell_type": "code",
      "metadata": {
        "id": "4v2GUFBJojLU",
        "colab_type": "code",
        "colab": {}
      },
      "source": [
        "start_2016 = datetime.datetime(2016, 1, 1)\n",
        "end_2016 = datetime.datetime(2017, 1, 1)\n",
        "export_sentinel2_RGB_SB('2015_2016', start_2016, end_2016, FOLDER_2015_2016)"
      ],
      "execution_count": null,
      "outputs": []
    },
    {
      "cell_type": "markdown",
      "metadata": {
        "id": "-l-sFB2Jr21h",
        "colab_type": "text"
      },
      "source": [
        "### Export Substract 2016-2017"
      ]
    },
    {
      "cell_type": "code",
      "metadata": {
        "id": "la_uCXG0owW0",
        "colab_type": "code",
        "colab": {}
      },
      "source": [
        "start_2017 = datetime.datetime(2017, 1, 1)\n",
        "end_2017 = datetime.datetime(2018, 1, 1)\n",
        "export_sentinel2_RGB_SB('2016_2017', start_2017, end_2017, FOLDER_2016_2017)"
      ],
      "execution_count": null,
      "outputs": []
    },
    {
      "cell_type": "markdown",
      "metadata": {
        "id": "Txg5D-Pyr7rY",
        "colab_type": "text"
      },
      "source": [
        "### Export Substract 2017-2018"
      ]
    },
    {
      "cell_type": "code",
      "metadata": {
        "id": "qKySkjFio-p3",
        "colab_type": "code",
        "colab": {}
      },
      "source": [
        "start_2018 = datetime.datetime(2018, 1, 1)\n",
        "end_2018 = datetime.datetime(2019, 1, 1)\n",
        "export_sentinel2_RGB_SB('2017_2018', start_2018, end_2018, FOLDER_2017_2018)"
      ],
      "execution_count": null,
      "outputs": []
    }
  ]
}